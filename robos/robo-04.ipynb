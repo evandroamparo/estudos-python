{
 "cells": [
  {
   "cell_type": "markdown",
   "metadata": {},
   "source": [
    "# Robôs\n",
    "Robôs que se movimentam numa matriz de 10x10"
   ]
  },
  {
   "cell_type": "code",
   "execution_count": 2,
   "metadata": {
    "collapsed": true
   },
   "outputs": [],
   "source": [
    "class Point:\n",
    "    \n",
    "    def __init__(self, x, y):\n",
    "        self.x = x\n",
    "        self.y = y\n",
    "        \n",
    "    def __str__(self):\n",
    "        return \"<%s, %s>\" % (self.x, self.y)\n",
    "        \n",
    "class Reward(Point):\n",
    "    \n",
    "    def __init__(self, x, y, name):\n",
    "        super(Reward, self).__init__(x, y)\n",
    "        self.name = name\n",
    "    \n",
    "    def __str__(self):\n",
    "        return \"<%s, %s>: %s\" % (self.x, self.y, self.name)\n",
    "    \n",
    "    def __repr__(self):\n",
    "        return \"<Reward> %s\" % str(self)\n",
    "        \n",
    "class Robo(Point):\n",
    "\n",
    "    def move_up(self):\n",
    "        if self.y < 10:\n",
    "            self.y += 1\n",
    "        else:\n",
    "            print(\"Movimento proibido\")\n",
    "        \n",
    "    def move_down(self):\n",
    "        if self.y > 0:\n",
    "            self.y -= 1\n",
    "        else:\n",
    "            print(\"Movimento proibido\")\n",
    "        \n",
    "    def move_left(self):\n",
    "        if self.x > 0:\n",
    "            self.x -= 1\n",
    "        else:\n",
    "            print(\"Movimento proibido\")\n",
    "        \n",
    "    def move_right(self):\n",
    "        if self.x < 10:\n",
    "            self.x += 1\n",
    "        else:\n",
    "            print(\"Movimento proibido\")"
   ]
  },
  {
   "cell_type": "code",
   "execution_count": 3,
   "metadata": {
    "collapsed": true
   },
   "outputs": [],
   "source": [
    "def check_reward(robot, rewards):\n",
    "    ok = False\n",
    "    for reward in rewards:\n",
    "        if robo.x == reward.x and robo.y == reward.y:\n",
    "            print(\"O robô encontrou a recompensa: %s\" % reward.name)\n",
    "            ok = True\n",
    "    return ok"
   ]
  },
  {
   "cell_type": "code",
   "execution_count": 12,
   "metadata": {},
   "outputs": [
    {
     "data": {
      "text/plain": [
       "[<Reward> <2, 0>: moeda, <Reward> <7, 6>: ouro, <Reward> <6, 7>: arma]"
      ]
     },
     "execution_count": 12,
     "metadata": {},
     "output_type": "execute_result"
    }
   ],
   "source": [
    "import random\n",
    "\n",
    "reward1 = Reward(random.randint(0, 10), random.randint(0, 10), \"moeda\")\n",
    "reward2 = Reward(random.randint(0, 10), random.randint(0, 10), \"ouro\")\n",
    "reward3 = Reward(random.randint(0, 10), random.randint(0, 10), \"arma\")\n",
    "reward4 = Reward(random.randint(0, 10), random.randint(0, 10), \"moeda\")\n",
    "reward5 = Reward(random.randint(0, 10), random.randint(0, 10), \"ouro\")\n",
    "reward6 = Reward(random.randint(0, 10), random.randint(0, 10), \"arma\")\n",
    "reward7 = Reward(random.randint(0, 10), random.randint(0, 10), \"moeda\")\n",
    "reward8 = Reward(random.randint(0, 10), random.randint(0, 10), \"ouro\")\n",
    "reward9 = Reward(random.randint(0, 10), random.randint(0, 10), \"arma\")\n",
    "rewards = [reward1, reward2, reward3]\n",
    "rewards"
   ]
  },
  {
   "cell_type": "code",
   "execution_count": 13,
   "metadata": {
    "collapsed": true
   },
   "outputs": [],
   "source": [
    "robo = Robo(random.randint(0, 10), random.randint(0, 10))"
   ]
  },
  {
   "cell_type": "code",
   "execution_count": null,
   "metadata": {},
   "outputs": [
    {
     "name": "stdout",
     "output_type": "stream",
     "text": [
      "Digite up, down, left ou right para movimentar o robô:down\n",
      "<10, 9>\n",
      "Digite up, down, left ou right para movimentar o robô:down\n",
      "<10, 8>\n",
      "Digite up, down, left ou right para movimentar o robô:down\n",
      "<10, 7>\n",
      "Digite up, down, left ou right para movimentar o robô:left\n",
      "<9, 7>\n",
      "Digite up, down, left ou right para movimentar o robô:left\n",
      "<8, 7>\n",
      "Digite up, down, left ou right para movimentar o robô:left\n",
      "<7, 7>\n",
      "Digite up, down, left ou right para movimentar o robô:down\n",
      "<7, 6>\n",
      "O robô encontrou a recompensa: ouro\n"
     ]
    }
   ],
   "source": [
    "for i in range(10):\n",
    "    direction = input(\"Digite up, down, left ou right para movimentar o robô:\")\n",
    "    if direction == \"up\":\n",
    "        robo.move_up()\n",
    "    elif direction == \"down\":\n",
    "        robo.move_down()\n",
    "    elif direction == \"left\":\n",
    "        robo.move_left()\n",
    "    elif direction == \"right\":\n",
    "        robo.move_right()\n",
    "    else:\n",
    "        print(\"Movimento inválido\")\n",
    "        continue\n",
    "    print(robo)\n",
    "    check_reward(robo, rewards)"
   ]
  }
 ],
 "metadata": {
  "kernelspec": {
   "display_name": "Python 3",
   "language": "python",
   "name": "python3"
  }
 },
 "nbformat": 4,
 "nbformat_minor": 2
}
