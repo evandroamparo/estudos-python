{
 "cells": [
  {
   "cell_type": "code",
   "execution_count": 1,
   "metadata": {},
   "outputs": [
    {
     "name": "stdout",
     "output_type": "stream",
     "text": [
      "{'marcos': 25, 'maria': 20, 'pedro': 30}\n",
      "25\n",
      "20\n"
     ]
    }
   ],
   "source": [
    "pessoas = {\"marcos\" : 25, \"maria\": 20, \"pedro\" : 30}\n",
    "\n",
    "print(pessoas)\n",
    "print(pessoas[\"marcos\"])\n",
    "print(pessoas.get(\"maria\"))\n",
    "\n"
   ]
  },
  {
   "cell_type": "code",
   "execution_count": 15,
   "metadata": {},
   "outputs": [
    {
     "name": "stdout",
     "output_type": "stream",
     "text": [
      "29\n",
      "{'marcos': 29, 'maria': 20, 'pedro': 30, 'felipe': 15}\n"
     ]
    }
   ],
   "source": [
    "pessoas[\"marcos\"] = 29\n",
    "print(pessoas[\"marcos\"])\n",
    "\n",
    "pessoas[\"felipe\"] = 15\n",
    "print(pessoas)"
   ]
  },
  {
   "cell_type": "code",
   "execution_count": 16,
   "metadata": {},
   "outputs": [
    {
     "name": "stdout",
     "output_type": "stream",
     "text": [
      "29\n",
      "20\n",
      "30\n",
      "15\n",
      "marcos -> 29\n",
      "maria -> 20\n",
      "pedro -> 30\n",
      "felipe -> 15\n"
     ]
    }
   ],
   "source": [
    "for pessoa in pessoas:\n",
    "    print(pessoas[pessoa])\n",
    "    \n",
    "for p, i in pessoas.items():\n",
    "    print(\"%s -> %d\" % (p, i))"
   ]
  },
  {
   "cell_type": "code",
   "execution_count": 17,
   "metadata": {},
   "outputs": [
    {
     "name": "stdout",
     "output_type": "stream",
     "text": [
      "dict_items([('marcos', 29), ('maria', 20), ('pedro', 30), ('felipe', 15)])\n"
     ]
    }
   ],
   "source": [
    "print(pessoas.items())"
   ]
  },
  {
   "cell_type": "code",
   "execution_count": 18,
   "metadata": {},
   "outputs": [
    {
     "name": "stdout",
     "output_type": "stream",
     "text": [
      "dict_keys(['marcos', 'maria', 'pedro', 'felipe'])\n"
     ]
    }
   ],
   "source": [
    "print(pessoas.keys())"
   ]
  },
  {
   "cell_type": "code",
   "execution_count": 19,
   "metadata": {},
   "outputs": [
    {
     "name": "stdout",
     "output_type": "stream",
     "text": [
      "dict_values([29, 20, 30, 15])\n"
     ]
    }
   ],
   "source": [
    "print(pessoas.values())"
   ]
  },
  {
   "cell_type": "code",
   "execution_count": 20,
   "metadata": {},
   "outputs": [
    {
     "name": "stdout",
     "output_type": "stream",
     "text": [
      "True\n",
      "False\n"
     ]
    }
   ],
   "source": [
    "print(\"maria\" in pessoas)\n",
    "print(\"joao\" in pessoas)"
   ]
  }
 ],
 "metadata": {
  "kernelspec": {
   "display_name": "Python 3",
   "language": "python",
   "name": "python3"
  },
  "language_info": {
   "codemirror_mode": {
    "name": "ipython",
    "version": 3
   },
   "file_extension": ".py",
   "mimetype": "text/x-python",
   "name": "python",
   "nbconvert_exporter": "python",
   "pygments_lexer": "ipython3",
   "version": "3.6.1"
  }
 },
 "nbformat": 4,
 "nbformat_minor": 2
}
