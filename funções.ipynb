{
 "cells": [
  {
   "cell_type": "code",
   "execution_count": 82,
   "metadata": {},
   "outputs": [
    {
     "name": "stdout",
     "output_type": "stream",
     "text": [
      "6\n"
     ]
    }
   ],
   "source": [
    "# função simples\n",
    "def somar(x, y):\n",
    "    return x + y\n",
    "\n",
    "print(somar(1, 5))"
   ]
  },
  {
   "cell_type": "code",
   "execution_count": 83,
   "metadata": {},
   "outputs": [
    {
     "name": "stdout",
     "output_type": "stream",
     "text": [
      "arg: 1\n",
      "arg: 2\n",
      "arg: três\n"
     ]
    }
   ],
   "source": [
    "# número indefinido de parêmatros\n",
    "# args = tupla\n",
    "\n",
    "def test_args(*args):\n",
    "    for arg in args:\n",
    "        print(\"arg:\", arg)\n",
    "        \n",
    "test_args(1, 2, \"três\")        "
   ]
  },
  {
   "cell_type": "code",
   "execution_count": 84,
   "metadata": {},
   "outputs": [
    {
     "name": "stdout",
     "output_type": "stream",
     "text": [
      "par1 = 1\n",
      "par2 = 2\n",
      "par3 = três\n"
     ]
    }
   ],
   "source": [
    "# número indefinido de parêmatros\n",
    "# kwargs = Keyword Arguments = dicionário\n",
    "\n",
    "def test_kwargs(**kwargs):\n",
    "    for key in kwargs:\n",
    "        print(\"%s = %s\" % (key, kwargs[key]))\n",
    "        \n",
    "test_kwargs(par1=1, par2=2, par3=\"três\")"
   ]
  },
  {
   "cell_type": "code",
   "execution_count": 85,
   "metadata": {},
   "outputs": [
    {
     "name": "stdout",
     "output_type": "stream",
     "text": [
      "1\n",
      "1\n",
      "6\n"
     ]
    }
   ],
   "source": [
    "# recursão\n",
    "\n",
    "def fatorial(x):\n",
    "    if x in [0, 1]:\n",
    "        return 1\n",
    "    return x * fatorial(x - 1)\n",
    "\n",
    "print(fatorial(0))\n",
    "print(fatorial(1))\n",
    "print(fatorial(3))\n"
   ]
  },
  {
   "cell_type": "code",
   "execution_count": 86,
   "metadata": {},
   "outputs": [
    {
     "name": "stdout",
     "output_type": "stream",
     "text": [
      "Hello world!\n",
      "Hello dev!\n"
     ]
    }
   ],
   "source": [
    "# parâmetros opcionais\n",
    "\n",
    "def hello(nome = \"world\"):\n",
    "    return \"Hello %s!\" % nome\n",
    "\n",
    "print(hello())\n",
    "print(hello(\"dev\"))"
   ]
  },
  {
   "cell_type": "code",
   "execution_count": 87,
   "metadata": {},
   "outputs": [
    {
     "data": {
      "text/plain": [
       "7"
      ]
     },
     "execution_count": 87,
     "metadata": {},
     "output_type": "execute_result"
    }
   ],
   "source": [
    "# funções como parâmetros\n",
    "\n",
    "def somar(x, y, z, f):\n",
    "    return x + f(y, z)\n",
    "\n",
    "def f(n1, n2):\n",
    "    return n1 * n2\n",
    "\n",
    "somar(1, 2, 3, f)"
   ]
  },
  {
   "cell_type": "code",
   "execution_count": 88,
   "metadata": {},
   "outputs": [
    {
     "name": "stdout",
     "output_type": "stream",
     "text": [
      "5\n"
     ]
    }
   ],
   "source": [
    "# lamda\n",
    "\n",
    "somar = lambda x, y: x + y\n",
    "\n",
    "print(somar(2, 3))"
   ]
  }
 ],
 "metadata": {
  "kernelspec": {
   "display_name": "Python 3",
   "language": "python",
   "name": "python3"
  },
  "language_info": {
   "codemirror_mode": {
    "name": "ipython",
    "version": 3
   },
   "file_extension": ".py",
   "mimetype": "text/x-python",
   "name": "python",
   "nbconvert_exporter": "python",
   "pygments_lexer": "ipython3",
   "version": "3.6.1"
  }
 },
 "nbformat": 4,
 "nbformat_minor": 2
}
