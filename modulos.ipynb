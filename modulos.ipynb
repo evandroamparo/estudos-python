{
 "cells": [
  {
   "cell_type": "code",
   "execution_count": 1,
   "metadata": {},
   "outputs": [
    {
     "name": "stdout",
     "output_type": "stream",
     "text": [
      "100\n",
      "30\n",
      "['__builtins__', '__cached__', '__doc__', '__file__', '__loader__', '__name__', '__package__', '__spec__', 'area_quadrado', 'area_retangulo', 'perimetro_quadrado']\n"
     ]
    }
   ],
   "source": [
    "# Import module\n",
    "import my_math\n",
    "\n",
    "# Import function\n",
    "# from my_math import area_quadrado\n",
    "\n",
    "# Import * - não aconselhado\n",
    "# from my_math import *\n",
    "\n",
    "print (my_math.area_quadrado(10))\n",
    "\n",
    "print (my_math.area_retangulo(10, 3))\n",
    "\n",
    "# dir() lista tudo que está no escopo do módulo\n",
    "print(dir(my_math))"
   ]
  }
 ],
 "metadata": {
  "kernelspec": {
   "display_name": "Python 3",
   "language": "python",
   "name": "python3"
  },
  "language_info": {
   "codemirror_mode": {
    "name": "ipython",
    "version": 3
   },
   "file_extension": ".py",
   "mimetype": "text/x-python",
   "name": "python",
   "nbconvert_exporter": "python",
   "pygments_lexer": "ipython3",
   "version": "3.6.1"
  }
 },
 "nbformat": 4,
 "nbformat_minor": 2
}
