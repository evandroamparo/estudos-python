{
 "cells": [
  {
   "cell_type": "code",
   "execution_count": 13,
   "metadata": {},
   "outputs": [
    {
     "name": "stdout",
     "output_type": "stream",
     "text": [
      "dev\n",
      "20\n",
      "dev\n"
     ]
    }
   ],
   "source": [
    "class Pessoa:\n",
    "    \n",
    "    # todo método tem self como o primeiro parâmetro. O nome é convenção\n",
    "    \n",
    "    # __init__ = construtor\n",
    "    def __init__(self, nome, idade):\n",
    "        self.nome = nome\n",
    "        self.idade = idade\n",
    "        \n",
    "    def imprimir_nome(self):\n",
    "        print(self.nome)\n",
    "        \n",
    "pessoa = Pessoa(\"dev\", 20)\n",
    "# atributos são públicos\n",
    "print(pessoa.nome)\n",
    "print(pessoa.idade)\n",
    "\n",
    "pessoa.imprimir_nome()"
   ]
  },
  {
   "cell_type": "code",
   "execution_count": 39,
   "metadata": {},
   "outputs": [
    {
     "name": "stdout",
     "output_type": "stream",
     "text": [
      "dev 12345\n",
      "manager 1111 1000000\n"
     ]
    }
   ],
   "source": [
    "# Herança\n",
    "\n",
    "class Conta:\n",
    "    \n",
    "    def __init__(self, cliente, numero):\n",
    "        self.cliente = cliente\n",
    "        self.numero = numero\n",
    "        \n",
    "    def imprimir(self):\n",
    "        print (self.cliente, self.numero)\n",
    "        \n",
    "class ContaEspecial(Conta):\n",
    "    \n",
    "    def __init__(self, cliente, numero, limite = 0):\n",
    "        super().__init__(cliente, numero)\n",
    "        self.limite = limite\n",
    "    \n",
    "    # override\n",
    "    def imprimir(self):\n",
    "        print (self.cliente, self.numero, self.limite)\n",
    "\n",
    "conta = Conta(\"dev\", 12345)\n",
    "conta.imprimir()\n",
    "\n",
    "conta_especial = ContaEspecial(\"manager\", 1111, 1000000)\n",
    "conta_especial.imprimir()"
   ]
  }
 ],
 "metadata": {
  "kernelspec": {
   "display_name": "Python 3",
   "language": "python",
   "name": "python3"
  },
  "language_info": {
   "codemirror_mode": {
    "name": "ipython",
    "version": 3
   },
   "file_extension": ".py",
   "mimetype": "text/x-python",
   "name": "python",
   "nbconvert_exporter": "python",
   "pygments_lexer": "ipython3",
   "version": "3.6.1"
  }
 },
 "nbformat": 4,
 "nbformat_minor": 2
}
