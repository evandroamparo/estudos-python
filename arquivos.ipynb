{
 "cells": [
  {
   "cell_type": "markdown",
   "metadata": {},
   "source": [
    "Modos:\n",
    "\n",
    "- r: leitura: \n",
    "- w: escrita, criando o arquivo se existir ou apagando o conteúdo existente\n",
    "- a: acrescenta (append) ao fim do arqivo\n",
    "- b: binário\n",
    "- r+: leitura e escrita, sem sobrescrever o arquivo\n",
    "- b+: leitura e escrita, sobrescrevendo o arquivo\n",
    "\n",
    "Outras combinações:\n",
    "- rb+: leitura e escrita binária\n",
    "- ab+: leitura e escrita binária, sem sobrescrever o arquivo"
   ]
  },
  {
   "cell_type": "code",
   "execution_count": 71,
   "metadata": {},
   "outputs": [
    {
     "data": {
      "text/plain": [
       "6"
      ]
     },
     "execution_count": 71,
     "metadata": {},
     "output_type": "execute_result"
    }
   ],
   "source": [
    "# escrita\n",
    "\n",
    "arquivo = open(\"arquivo.txt\", \"w\")\n",
    "arquivo.write(\"Hello\\n\")"
   ]
  },
  {
   "cell_type": "code",
   "execution_count": 72,
   "metadata": {},
   "outputs": [
    {
     "name": "stdout",
     "output_type": "stream",
     "text": [
      "Hello\n",
      "\n"
     ]
    }
   ],
   "source": [
    "# leitura\n",
    "arquivo = open(\"arquivo.txt\", \"r\")\n",
    "conteudo = arquivo.read()\n",
    "print(conteudo)"
   ]
  },
  {
   "cell_type": "code",
   "execution_count": 73,
   "metadata": {},
   "outputs": [
    {
     "name": "stdout",
     "output_type": "stream",
     "text": [
      "Hello\n",
      "python\n"
     ]
    }
   ],
   "source": [
    "# append\n",
    "\n",
    "arquivo = open(\"arquivo.txt\", \"a\")\n",
    "arquivo.write(\"python\")\n",
    "arquivo.close()\n",
    "\n",
    "arquivo = open(\"arquivo.txt\", \"r\")\n",
    "conteudo = arquivo.read()\n",
    "print(conteudo)"
   ]
  },
  {
   "cell_type": "code",
   "execution_count": 74,
   "metadata": {},
   "outputs": [
    {
     "name": "stdout",
     "output_type": "stream",
     "text": [
      "Hello\n",
      "\n",
      "python\n"
     ]
    }
   ],
   "source": [
    "# lendo 1 linha de cada vez\n",
    "try:\n",
    "    arquivo = open(\"arquivo.txt\", \"r\")\n",
    "    try:\n",
    "        for linha in arquivo:\n",
    "            print(linha)\n",
    "            \n",
    "    except IOError:\n",
    "        print(\"erro de leitura\")\n",
    "    finally:\n",
    "        arquivo.close()\n",
    "except IOError:\n",
    "    print('oops!')"
   ]
  },
  {
   "cell_type": "code",
   "execution_count": 75,
   "metadata": {},
   "outputs": [
    {
     "name": "stdout",
     "output_type": "stream",
     "text": [
      "Hello\n",
      "\n",
      "python\n"
     ]
    }
   ],
   "source": [
    "# com with: o arquivo é fechado automaticamente (garbage collection)\n",
    "\n",
    "# lendo 1 linha de cada vez\n",
    "try:\n",
    "    with open(\"arquivo.txt\", \"r\") as arquivo:\n",
    "        try:\n",
    "            for linha in arquivo:\n",
    "                print(linha)\n",
    "        except IOError:\n",
    "            print(\"erro de leitura\")\n",
    "except IOError:\n",
    "    #caso o arquivo não exista ou esteja inacessível\n",
    "    print('oops!')"
   ]
  }
 ],
 "metadata": {
  "kernelspec": {
   "display_name": "Python 3",
   "language": "python",
   "name": "python3"
  },
  "language_info": {
   "codemirror_mode": {
    "name": "ipython",
    "version": 3
   },
   "file_extension": ".py",
   "mimetype": "text/x-python",
   "name": "python",
   "nbconvert_exporter": "python",
   "pygments_lexer": "ipython3",
   "version": "3.6.1"
  }
 },
 "nbformat": 4,
 "nbformat_minor": 2
}
